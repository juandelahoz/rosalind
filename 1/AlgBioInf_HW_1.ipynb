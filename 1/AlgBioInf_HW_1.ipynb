{
 "cells": [
  {
   "cell_type": "markdown",
   "metadata": {},
   "source": [
    "### Problem 1\n",
    "#### Strings and Lists"
   ]
  },
  {
   "cell_type": "code",
   "execution_count": 2,
   "metadata": {},
   "outputs": [
    {
     "name": "stdout",
     "output_type": "stream",
     "text": [
      "Chalcides nigriceps\n"
     ]
    }
   ],
   "source": [
    "full_string = \"HoO1R1Bi2SNbrsGCTyvnyaA4AVvWChalcidesAvzAsa4HAi180C2BtUN4OihfE6fMFZlmPEkWVJxPo2H8awRix0Rb0q7HfvTUVpqphS8xEsfAjybzjznigricepsS1aoM5B7I0AqtOYBF9IAOo8aInSiTni6I5z9v.\"\n",
    "indices = [28, 36, 115, 123]\n",
    "first_word = full_string[indices[0]:(indices[1]+1)]\n",
    "second_word = full_string[indices[2]:(indices[3]+1)]\n",
    "print( first_word + \" \" + second_word)"
   ]
  }
 ],
 "metadata": {
  "kernelspec": {
   "display_name": "Python 3",
   "language": "python",
   "name": "python3"
  },
  "language_info": {
   "codemirror_mode": {
    "name": "ipython",
    "version": 3
   },
   "file_extension": ".py",
   "mimetype": "text/x-python",
   "name": "python",
   "nbconvert_exporter": "python",
   "pygments_lexer": "ipython3",
   "version": "3.6.1"
  }
 },
 "nbformat": 4,
 "nbformat_minor": 2
}
